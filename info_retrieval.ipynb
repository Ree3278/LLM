{
 "cells": [
  {
   "cell_type": "code",
   "execution_count": 18,
   "metadata": {},
   "outputs": [],
   "source": [
    "import re\n",
    "import numpy as np\n",
    "import pandas as pd"
   ]
  },
  {
   "cell_type": "markdown",
   "metadata": {},
   "source": [
    "## prepare docs"
   ]
  },
  {
   "cell_type": "code",
   "execution_count": 2,
   "metadata": {},
   "outputs": [],
   "source": [
    "d1 = \"Climate change is accelerating faster than previously thought, \\\n",
    "      according to a new report from the Intergovernmental Panel on \\\n",
    "      Climate Change (IPCC). The report highlights that global \\\n",
    "      temperatures have risen by an average of 1.1°C since the late \\\n",
    "      19th century, with most of this increase occurring in the last 40 years. Rising sea levels, more frequent extreme weather events, and loss of biodiversity are some of the key impacts outlined in the report.\"\n",
    "d2 = \"The human genome consists of approximately 3 billion base pairs of DNA, which are organized into 23 pairs of chromosomes. Each gene contains the instructions necessary to build proteins, which are the molecular machines that carry out many functions in the body. The process of gene expression involves transcription, where DNA is copied into RNA, and translation, where RNA is used to build proteins.\"\n",
    "d3 = \"Person A: Hey, did you finish the report for the marketing team? \\\n",
    "      Person B: Not yet, I’m almost done. I just need to add a few more details. \\\n",
    "      Person A: Alright, make sure it’s submitted by 5 PM. \\\n",
    "      Person B: No problem, I’ve got it covered.\"\n",
    "d4 = \"n the year 1066, the Battle of Hastings took place in England, marking a pivotal moment in the country’s history. William the Conqueror, the Duke of Normandy, defeated King Harold II, which led to the Norman conquest of England. This event significantly influenced the culture, language, and governance of England.\"\n",
    "d5 = \"I recently bought the new XYZ smartphone, and I have to say, I’m really impressed. The camera quality is excellent, especially in low light. The battery life easily lasts a full day with heavy use, and the screen resolution is sharp and vibrant. My only complaint is the fingerprint sensor, which can be a bit finicky at times.\"\n",
    "\n",
    "\n",
    "docs = [d1, d2, d3, d4, d5]"
   ]
  },
  {
   "cell_type": "markdown",
   "metadata": {},
   "source": [
    "# Get vocabs"
   ]
  },
  {
   "cell_type": "code",
   "execution_count": 16,
   "metadata": {},
   "outputs": [
    {
     "name": "stdout",
     "output_type": "stream",
     "text": [
      "{'', 'used', 'camera', 'say', 'risen', 'more', 'battery', 'bought', 'rising', 'william', 'no', 'by', 'governance', '3', 'organized', 'outlined', 'problem', 'where', 'intergovernmental', 'are', 'moment', 'you', 'conquest', 'rna', 'billion', 'i', 'make', 'instructions', 'with', 'events', 'climate', 'out', 'proteins', 'it', 'details', 'year', 'late', 'vibrant', 'bit', 'a', 'covered', 'influenced', 'expression', 'n', 'country’s', 'my', 'few', 'only', 'from', 'took', 'culture', 'times', 'gene', 'translation', 'machines', 'just', 'really', 'yet', 'for', 'since', 'this', 'not', 'history', 'into', 'ipcc', 'involves', 'life', '40', 'and', 'harold', 'report', 'some', 'excellent', 'norman', 'duke', 'significantly', 'sensor', 'according', 'biodiversity', 'sure', '23', '1°c', '5', 'did', 'occurring', 'it’s', 'got', 'marking', 'low', 'of', 'base', 'defeated', 'full', 'loss', 'average', 'weather', 'i’m', 'battle', 'key', 'transcription', 'on', 'century', 'chromosomes', 'alright', 'approximately', 'dna', 'contains', 'highlights', 'marketing', 'language', 'heavy', 'than', 'can', 'increase', 'new', 'molecular', 'carry', 'b', 'thought', 'use', 'impacts', 'person', 'complaint', 'levels', 'need', 'king', 'easily', 'fingerprint', 'in', 'to', 'finish', 'temperatures', 'frequent', 'process', 'copied', 'team', '19th', 'pm', 'be', 'england', 'which', 'submitted', 'pivotal', 'previously', 'sharp', 'impressed', 'is', 'lasts', 'day', 'change', 'hey', 'at', 'normandy', '1', '1066', 'functions', 'extreme', 'done', 'most', 'have', 'accelerating', 'i’ve', 'xyz', 'pairs', 'led', 'faster', 'sea', 'build', 'hastings', 'genome', 'ii', 'event', 'the', 'almost', 'quality', 'especially', 'last', 'consists', 'body', 'finicky', 'many', 'an', 'years', 'necessary', 'light', 'resolution', 'that', 'place', 'add', 'conqueror', 'global', 'recently', 'smartphone', 'human', 'screen', 'panel', 'each'}\n"
     ]
    }
   ],
   "source": [
    "sep = r'[ \\n\\r\\t\\f,.\\(\\)\\?:]+'\n",
    "pat = re.compile(sep)\n",
    "\n",
    "vocabs = set()\n",
    "\n",
    "for d in docs:\n",
    "    words = pat.split(d.lower())\n",
    "    vocabs.update(words)\n",
    "\n",
    "print(vocabs)\n",
    "    \n"
   ]
  },
  {
   "cell_type": "markdown",
   "metadata": {},
   "source": [
    "# Term Frequency Table"
   ]
  },
  {
   "cell_type": "code",
   "execution_count": 24,
   "metadata": {},
   "outputs": [
    {
     "name": "stdout",
     "output_type": "stream",
     "text": [
      "[15, 219, 297, 342]\n"
     ]
    }
   ],
   "source": [
    "tf_table = pd.DataFrame(columns=range(len(docs)), index=list(vocabs))\n",
    "for v in vocabs:\n",
    "    for di in range(len(docs)):\n",
    "        d = docs[di]\n",
    "        freq = len(re.findall(v, d, flags=re.IGNORECASE))\n",
    "        tf_table[v, di] = freq\n",
    "tf_table.head()\n"
   ]
  },
  {
   "cell_type": "markdown",
   "metadata": {},
   "source": [
    "# generate inverted indexed matrix"
   ]
  },
  {
   "cell_type": "code",
   "execution_count": null,
   "metadata": {},
   "outputs": [],
   "source": [
    "IDM = {}\n",
    "for v in vocabs:\n",
    "    wposi = {}\n",
    "    for di in range(len(docs)):\n",
    "        d = docs[di]\n",
    "        matches = re.finditer(v, d, flags=re.IGNORECASE)\n",
    "        posis = []\n",
    "        for match in matches:\n",
    "            pid = match.start()\n",
    "            posis.append(pid)\n",
    "        wposi[di] = sorted(posis)\n",
    "    wposi['freq'] = len(wposi)\n",
    "    IDM[v] = wposi\n",
    "\n",
    "print(IDM['is'][0])"
   ]
  }
 ],
 "metadata": {
  "kernelspec": {
   "display_name": "Deep_learning",
   "language": "python",
   "name": "python3"
  },
  "language_info": {
   "codemirror_mode": {
    "name": "ipython",
    "version": 3
   },
   "file_extension": ".py",
   "mimetype": "text/x-python",
   "name": "python",
   "nbconvert_exporter": "python",
   "pygments_lexer": "ipython3",
   "version": "3.11.5"
  }
 },
 "nbformat": 4,
 "nbformat_minor": 2
}
